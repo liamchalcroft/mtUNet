{
 "cells": [
  {
   "cell_type": "code",
   "execution_count": 1,
   "metadata": {},
   "outputs": [],
   "source": [
    "import os, glob, shutil\n",
    "import numpy as np\n",
    "import json"
   ]
  },
  {
   "cell_type": "code",
   "execution_count": 2,
   "metadata": {},
   "outputs": [],
   "source": [
    "raw_data_dir = \"../UHN-MedImg3D-ML-quiz/\"\n",
    "preprocessed_data_dir = \"../nnUNet_raw/Dataset001_Pancreas/\""
   ]
  },
  {
   "cell_type": "code",
   "execution_count": 3,
   "metadata": {},
   "outputs": [],
   "source": [
    "train_0_files = glob.glob(os.path.join(raw_data_dir, \"train\", \"subtype0\", \"*_0000.nii.gz\"))\n",
    "train_1_files = glob.glob(os.path.join(raw_data_dir, \"train\", \"subtype1\", \"*_0000.nii.gz\"))\n",
    "train_2_files = glob.glob(os.path.join(raw_data_dir, \"train\", \"subtype2\", \"*_0000.nii.gz\"))\n",
    "val_0_files = glob.glob(os.path.join(raw_data_dir, \"validation\", \"subtype0\", \"*_0000.nii.gz\"))\n",
    "val_1_files = glob.glob(os.path.join(raw_data_dir, \"validation\", \"subtype1\", \"*_0000.nii.gz\"))\n",
    "val_2_files = glob.glob(os.path.join(raw_data_dir, \"validation\", \"subtype2\", \"*_0000.nii.gz\"))\n",
    "test_files = glob.glob(os.path.join(raw_data_dir, \"test\", \"*_0000.nii.gz\"))"
   ]
  },
  {
   "cell_type": "code",
   "execution_count": 4,
   "metadata": {},
   "outputs": [
    {
     "name": "stdout",
     "output_type": "stream",
     "text": [
      "Training files: 62, 106, 84\n",
      "Validation files: 9, 15, 12\n",
      "Test files: 72\n"
     ]
    }
   ],
   "source": [
    "print(f\"Training files: {len(train_0_files)}, {len(train_1_files)}, {len(train_2_files)}\")\n",
    "print(f\"Validation files: {len(val_0_files)}, {len(val_1_files)}, {len(val_2_files)}\")\n",
    "print(f\"Test files: {len(test_files)}\")"
   ]
  },
  {
   "cell_type": "code",
   "execution_count": 5,
   "metadata": {},
   "outputs": [],
   "source": [
    "imagesTr_dir = os.path.join(preprocessed_data_dir, \"imagesTr\")\n",
    "labelsTr_dir = os.path.join(preprocessed_data_dir, \"labelsTr\")\n",
    "imagesTs_dir = os.path.join(preprocessed_data_dir, \"imagesTs\")\n",
    "os.makedirs(imagesTr_dir, exist_ok=True)\n",
    "os.makedirs(labelsTr_dir, exist_ok=True)\n",
    "os.makedirs(imagesTs_dir, exist_ok=True)"
   ]
  },
  {
   "cell_type": "code",
   "execution_count": 6,
   "metadata": {},
   "outputs": [],
   "source": [
    "train_subtypes = []\n",
    "\n",
    "for file in train_0_files:\n",
    "  train_subtypes.append([os.path.basename(file).replace(\"_0000.nii.gz\", \"\"), 0])\n",
    "  img = file\n",
    "  lab = file.replace(\"_0000.nii.gz\", \".nii.gz\")\n",
    "  shutil.copy(img, os.path.join(imagesTr_dir, os.path.basename(img)))\n",
    "  shutil.copy(lab, os.path.join(labelsTr_dir, os.path.basename(lab)))\n",
    "\n",
    "for file in train_1_files:\n",
    "  train_subtypes.append([os.path.basename(file).replace(\"_0000.nii.gz\", \"\"), 1])\n",
    "  img = file\n",
    "  lab = file.replace(\"_0000.nii.gz\", \".nii.gz\")\n",
    "  shutil.copy(img, os.path.join(imagesTr_dir, os.path.basename(img)))\n",
    "  shutil.copy(lab, os.path.join(labelsTr_dir, os.path.basename(lab)))\n",
    "\n",
    "for file in train_2_files:\n",
    "  train_subtypes.append([os.path.basename(file).replace(\"_0000.nii.gz\", \"\"), 2])\n",
    "  img = file\n",
    "  lab = file.replace(\"_0000.nii.gz\", \".nii.gz\")\n",
    "  shutil.copy(img, os.path.join(imagesTr_dir, os.path.basename(img)))\n",
    "  shutil.copy(lab, os.path.join(labelsTr_dir, os.path.basename(lab)))\n",
    "\n",
    "for file in val_0_files:\n",
    "  train_subtypes.append([os.path.basename(file).replace(\"_0000.nii.gz\", \"\"), 0])\n",
    "  img = file\n",
    "  lab = file.replace(\"_0000.nii.gz\", \".nii.gz\")\n",
    "  shutil.copy(img, os.path.join(imagesTr_dir, os.path.basename(img)))\n",
    "  shutil.copy(lab, os.path.join(labelsTr_dir, os.path.basename(lab)))\n",
    "\n",
    "for file in val_1_files:\n",
    "  train_subtypes.append([os.path.basename(file).replace(\"_0000.nii.gz\", \"\"), 1])\n",
    "  img = file\n",
    "  lab = file.replace(\"_0000.nii.gz\", \".nii.gz\")\n",
    "  shutil.copy(img, os.path.join(imagesTr_dir, os.path.basename(img)))\n",
    "  shutil.copy(lab, os.path.join(labelsTr_dir, os.path.basename(lab)))\n",
    "\n",
    "for file in val_2_files:\n",
    "  train_subtypes.append([os.path.basename(file).replace(\"_0000.nii.gz\", \"\"), 2])\n",
    "  img = file\n",
    "  lab = file.replace(\"_0000.nii.gz\", \".nii.gz\")\n",
    "  shutil.copy(img, os.path.join(imagesTr_dir, os.path.basename(img)))\n",
    "  shutil.copy(lab, os.path.join(labelsTr_dir, os.path.basename(lab)))\n",
    "\n",
    "train_subtypes = np.array(train_subtypes)\n",
    "np.savetxt(os.path.join(preprocessed_data_dir, \"train_subtypes.csv\"), train_subtypes, fmt=\"%s,%s\", delimiter=\",\", header=\"file_id,class\", comments=\"\")\n",
    "\n",
    "for file in test_files:\n",
    "  img = file\n",
    "  shutil.copy(img, os.path.join(imagesTs_dir, os.path.basename(img)))"
   ]
  },
  {
   "cell_type": "code",
   "execution_count": 7,
   "metadata": {},
   "outputs": [],
   "source": [
    "dataset_json = { \n",
    " \"channel_names\": {\n",
    "   \"0\": \"CT\", \n",
    " }, \n",
    " \"labels\": {  # THIS IS DIFFERENT NOW!\n",
    "   \"background\": 0,\n",
    "   \"pancreas\": 1,\n",
    "   \"lesion\": 2\n",
    " }, \n",
    " \"subtypes\": {\n",
    "   \"subtype0\": 0,\n",
    "   \"subtype1\": 1,\n",
    "   \"subtype2\": 2\n",
    " },\n",
    " \"numTraining\": len(glob.glob(os.path.join(imagesTr_dir, \"*\"))), \n",
    " \"file_ending\": \".nii.gz\"\n",
    " }\n",
    "with open(os.path.join(preprocessed_data_dir, \"dataset.json\"), \"w\") as f:\n",
    "  json.dump(dataset_json, f)"
   ]
  },
  {
   "cell_type": "code",
   "execution_count": 8,
   "metadata": {},
   "outputs": [],
   "source": [
    "# Get all training and validation file IDs\n",
    "train_ids = []\n",
    "val_ids = []\n",
    "\n",
    "# Add training files\n",
    "for file in train_0_files + train_1_files + train_2_files:\n",
    "    file_id = os.path.basename(file).replace(\"_0000.nii.gz\", \"\")\n",
    "    train_ids.append(file_id)\n",
    "\n",
    "# Add validation files\n",
    "for file in val_0_files + val_1_files + val_2_files:\n",
    "    file_id = os.path.basename(file).replace(\"_0000.nii.gz\", \"\")\n",
    "    val_ids.append(file_id)\n",
    "\n",
    "# Create the splits structure\n",
    "splits = [{\"train\": train_ids, \"val\": val_ids}]\n",
    "\n",
    "# Save the splits file\n",
    "splits_file = os.path.join(preprocessed_data_dir, \"splits_final.json\")\n",
    "with open(splits_file, \"w\") as f:\n",
    "    json.dump(splits, f)"
   ]
  },
  {
   "cell_type": "code",
   "execution_count": null,
   "metadata": {},
   "outputs": [],
   "source": []
  }
 ],
 "metadata": {
  "kernelspec": {
   "display_name": "atlas",
   "language": "python",
   "name": "python3"
  },
  "language_info": {
   "codemirror_mode": {
    "name": "ipython",
    "version": 3
   },
   "file_extension": ".py",
   "mimetype": "text/x-python",
   "name": "python",
   "nbconvert_exporter": "python",
   "pygments_lexer": "ipython3",
   "version": "3.10.4"
  }
 },
 "nbformat": 4,
 "nbformat_minor": 2
}
